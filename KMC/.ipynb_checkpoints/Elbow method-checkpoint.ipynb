{
 "cells": [
  {
   "cell_type": "code",
   "execution_count": 1,
   "id": "c9c258a1-6fa2-43e7-b29f-733fd6943a2c",
   "metadata": {},
   "outputs": [],
   "source": [
    "import pandas as pd\n",
    "import numpy as np\n",
    "import matplotlib.pyplot as plt\n",
    "import seaborn as sns\n",
    "sns.set()\n",
    "from sklearn.cluster import KMeans"
   ]
  },
  {
   "cell_type": "code",
   "execution_count": 2,
   "id": "28defc78-2dc9-4f53-8555-a474a81fa3fb",
   "metadata": {},
   "outputs": [],
   "source": [
    "data = pd.read_csv('3.01. Country Clusters.csv')"
   ]
  },
  {
   "cell_type": "code",
   "execution_count": 3,
   "id": "5839be77-8bf8-4a27-81af-68e1c9450f84",
   "metadata": {},
   "outputs": [
    {
     "data": {
      "text/html": [
       "<div>\n",
       "<style scoped>\n",
       "    .dataframe tbody tr th:only-of-type {\n",
       "        vertical-align: middle;\n",
       "    }\n",
       "\n",
       "    .dataframe tbody tr th {\n",
       "        vertical-align: top;\n",
       "    }\n",
       "\n",
       "    .dataframe thead th {\n",
       "        text-align: right;\n",
       "    }\n",
       "</style>\n",
       "<table border=\"1\" class=\"dataframe\">\n",
       "  <thead>\n",
       "    <tr style=\"text-align: right;\">\n",
       "      <th></th>\n",
       "      <th>Country</th>\n",
       "      <th>Latitude</th>\n",
       "      <th>Longitude</th>\n",
       "      <th>Language</th>\n",
       "    </tr>\n",
       "  </thead>\n",
       "  <tbody>\n",
       "    <tr>\n",
       "      <th>0</th>\n",
       "      <td>USA</td>\n",
       "      <td>44.97</td>\n",
       "      <td>-103.77</td>\n",
       "      <td>English</td>\n",
       "    </tr>\n",
       "    <tr>\n",
       "      <th>1</th>\n",
       "      <td>Canada</td>\n",
       "      <td>62.40</td>\n",
       "      <td>-96.80</td>\n",
       "      <td>English</td>\n",
       "    </tr>\n",
       "    <tr>\n",
       "      <th>2</th>\n",
       "      <td>France</td>\n",
       "      <td>46.75</td>\n",
       "      <td>2.40</td>\n",
       "      <td>French</td>\n",
       "    </tr>\n",
       "    <tr>\n",
       "      <th>3</th>\n",
       "      <td>UK</td>\n",
       "      <td>54.01</td>\n",
       "      <td>-2.53</td>\n",
       "      <td>English</td>\n",
       "    </tr>\n",
       "    <tr>\n",
       "      <th>4</th>\n",
       "      <td>Germany</td>\n",
       "      <td>51.15</td>\n",
       "      <td>10.40</td>\n",
       "      <td>German</td>\n",
       "    </tr>\n",
       "    <tr>\n",
       "      <th>5</th>\n",
       "      <td>Australia</td>\n",
       "      <td>-25.45</td>\n",
       "      <td>133.11</td>\n",
       "      <td>English</td>\n",
       "    </tr>\n",
       "  </tbody>\n",
       "</table>\n",
       "</div>"
      ],
      "text/plain": [
       "     Country  Latitude  Longitude Language\n",
       "0        USA     44.97    -103.77  English\n",
       "1     Canada     62.40     -96.80  English\n",
       "2     France     46.75       2.40   French\n",
       "3         UK     54.01      -2.53  English\n",
       "4    Germany     51.15      10.40   German\n",
       "5  Australia    -25.45     133.11  English"
      ]
     },
     "execution_count": 3,
     "metadata": {},
     "output_type": "execute_result"
    }
   ],
   "source": [
    "data"
   ]
  },
  {
   "cell_type": "code",
   "execution_count": 4,
   "id": "6f3d8d82-2f25-49e9-836d-f2ae8b7f5c76",
   "metadata": {},
   "outputs": [],
   "source": [
    "# plotting the data in the graph as scatter ploot"
   ]
  },
  {
   "cell_type": "code",
   "execution_count": 5,
   "id": "ef3e12e2-9005-4f82-93a9-da59c3671cfd",
   "metadata": {},
   "outputs": [
    {
     "data": {
      "image/png": "[encoded data removed]",
      "text/plain": [
       "<Figure size 640x480 with 1 Axes>"
      ]
     },
     "metadata": {},
     "output_type": "display_data"
    }
   ],
   "source": [
    "plt.scatter(data['Longitude'],data['Latitude']) # plotting longitude and latitude of countries\n",
    "plt.xlim(-100,100) # then giving general longitude and latitude maximum limit \n",
    "plt.ylim(-90,90)\n",
    "plt.show()\n",
    "# see the country coordinate is placed like it is in world map-"
   ]
  },
  {
   "cell_type": "code",
   "execution_count": 6,
   "id": "992b7088-7b52-45d3-b897-cf55206bc1c2",
   "metadata": {},
   "outputs": [],
   "source": [
    "# inoc method of pandas selects rows and colums in the datasetr\n",
    "# basically all the data as : and slicing out first and last leaving middle two red color marked data only\n",
    "# no limits for rows but slice out others from data\n",
    "x = data.iloc[:,1:3]"
   ]
  },
  {
   "cell_type": "code",
   "execution_count": 7,
   "id": "cad09b1e-a138-4c56-a264-70e61b962db6",
   "metadata": {},
   "outputs": [],
   "source": [
    "#  k means clustering with two clusters\n",
    "k_means = KMeans(4)"
   ]
  },
  {
   "cell_type": "code",
   "execution_count": 8,
   "id": "58cfcb44-01a5-4ca5-8d25-0d9d0a04c477",
   "metadata": {},
   "outputs": [
    {
     "data": {
      "text/plain": [
       "array([3, 1, 2, 2, 2, 0], dtype=int32)"
      ]
     },
     "execution_count": 8,
     "metadata": {},
     "output_type": "execute_result"
    }
   ],
   "source": [
    "# clustering results\n",
    "identified_clusters = k_means.fit_predict(x)\n",
    "identified_clusters"
   ]
  },
  {
   "cell_type": "code",
   "execution_count": 9,
   "id": "754a2347-5add-48a9-93ea-1398a8796a82",
   "metadata": {},
   "outputs": [],
   "source": [
    "data_with_clusters = data.copy()"
   ]
  },
  {
   "cell_type": "code",
   "execution_count": 10,
   "id": "17595f43-f5f9-4a95-a08d-90af67b7e06c",
   "metadata": {},
   "outputs": [],
   "source": [
    "# appending wnoter feature to the dataset\n",
    "data_with_clusters['Cluster'] = identified_clusters"
   ]
  },
  {
   "cell_type": "code",
   "execution_count": 11,
   "id": "159e9f65-a8c5-4057-80e1-4f189ca6d7e3",
   "metadata": {},
   "outputs": [
    {
     "data": {
      "text/html": [
       "<div>\n",
       "<style scoped>\n",
       "    .dataframe tbody tr th:only-of-type {\n",
       "        vertical-align: middle;\n",
       "    }\n",
       "\n",
       "    .dataframe tbody tr th {\n",
       "        vertical-align: top;\n",
       "    }\n",
       "\n",
       "    .dataframe thead th {\n",
       "        text-align: right;\n",
       "    }\n",
       "</style>\n",
       "<table border=\"1\" class=\"dataframe\">\n",
       "  <thead>\n",
       "    <tr style=\"text-align: right;\">\n",
       "      <th></th>\n",
       "      <th>Country</th>\n",
       "      <th>Latitude</th>\n",
       "      <th>Longitude</th>\n",
       "      <th>Language</th>\n",
       "      <th>Cluster</th>\n",
       "    </tr>\n",
       "  </thead>\n",
       "  <tbody>\n",
       "    <tr>\n",
       "      <th>0</th>\n",
       "      <td>USA</td>\n",
       "      <td>44.97</td>\n",
       "      <td>-103.77</td>\n",
       "      <td>English</td>\n",
       "      <td>3</td>\n",
       "    </tr>\n",
       "    <tr>\n",
       "      <th>1</th>\n",
       "      <td>Canada</td>\n",
       "      <td>62.40</td>\n",
       "      <td>-96.80</td>\n",
       "      <td>English</td>\n",
       "      <td>1</td>\n",
       "    </tr>\n",
       "    <tr>\n",
       "      <th>2</th>\n",
       "      <td>France</td>\n",
       "      <td>46.75</td>\n",
       "      <td>2.40</td>\n",
       "      <td>French</td>\n",
       "      <td>2</td>\n",
       "    </tr>\n",
       "    <tr>\n",
       "      <th>3</th>\n",
       "      <td>UK</td>\n",
       "      <td>54.01</td>\n",
       "      <td>-2.53</td>\n",
       "      <td>English</td>\n",
       "      <td>2</td>\n",
       "    </tr>\n",
       "    <tr>\n",
       "      <th>4</th>\n",
       "      <td>Germany</td>\n",
       "      <td>51.15</td>\n",
       "      <td>10.40</td>\n",
       "      <td>German</td>\n",
       "      <td>2</td>\n",
       "    </tr>\n",
       "    <tr>\n",
       "      <th>5</th>\n",
       "      <td>Australia</td>\n",
       "      <td>-25.45</td>\n",
       "      <td>133.11</td>\n",
       "      <td>English</td>\n",
       "      <td>0</td>\n",
       "    </tr>\n",
       "  </tbody>\n",
       "</table>\n",
       "</div>"
      ],
      "text/plain": [
       "     Country  Latitude  Longitude Language  Cluster\n",
       "0        USA     44.97    -103.77  English        3\n",
       "1     Canada     62.40     -96.80  English        1\n",
       "2     France     46.75       2.40   French        2\n",
       "3         UK     54.01      -2.53  English        2\n",
       "4    Germany     51.15      10.40   German        2\n",
       "5  Australia    -25.45     133.11  English        0"
      ]
     },
     "execution_count": 11,
     "metadata": {},
     "output_type": "execute_result"
    }
   ],
   "source": [
    "data_with_clusters\n"
   ]
  },
  {
   "cell_type": "code",
   "execution_count": 31,
   "id": "f60edec6-4f11-40fa-9b47-af13186e20d2",
   "metadata": {},
   "outputs": [
    {
     "data": {
      "image/png": "[encoded data removed]",
      "text/plain": [
       "<Figure size 640x480 with 1 Axes>"
      ]
     },
     "metadata": {},
     "output_type": "display_data"
    }
   ],
   "source": [
    "plt.scatter(data_with_clusters['Longitude'], data_with_clusters['Latitude'], c=data_with_clusters['Cluster'], cmap='rainbow')\n",
    "plt.xlim(-100,150)\n",
    "plt.ylim(-90,90)\n",
    "plt.show()\n",
    "# the only two colo inspite of four clusters is because there is overlapping of datapoints"
   ]
  },
  {
   "cell_type": "markdown",
   "id": "4572a24b-9c51-42b5-af17-49fceb6f522d",
   "metadata": {},
   "source": [
    "# WCSS"
   ]
  },
  {
   "cell_type": "code",
   "execution_count": 34,
   "id": "8681d5cd-237c-46a7-afb6-69d00d8c8e28",
   "metadata": {},
   "outputs": [
    {
     "data": {
      "text/plain": [
       "0.0"
      ]
     },
     "execution_count": 34,
     "metadata": {},
     "output_type": "execute_result"
    }
   ],
   "source": [
    "k_means.inertia_"
   ]
  },
  {
   "cell_type": "code",
   "execution_count": 45,
   "id": "d8618049-756d-47a9-95a9-abc51b7df1fa",
   "metadata": {},
   "outputs": [],
   "source": [
    "# looping through the elements with number of elements times until we get the optimal cluster\n",
    "# here we are filling wcss withh amount of clusters we get in each iteration\n",
    "\n",
    "wcss=[]\n",
    "for i in range(1,7):\n",
    "    # testing kmeans with multiple value of clusters \n",
    "    k_means = KMeans(i)\n",
    "    k_means.fit(x)\n",
    "    # taking the inertia (WCSS)  each iteraytion \n",
    "    wcss_iteration = k_means.inertia_\n",
    "    # appending with wcss values each numer of clusters\n",
    "    wcss.append(wcss_iteration)"
   ]
  },
  {
   "cell_type": "code",
   "execution_count": 41,
   "id": "9af42a4c-5c2b-4608-9dfd-8e12586b3b23",
   "metadata": {},
   "outputs": [
    {
     "data": {
      "text/plain": [
       "[42601.91356666667,\n",
       " 13205.758119999999,\n",
       " 288.10523333333333,\n",
       " 214.69914999999995,\n",
       " 38.50624999999998,\n",
       " 0.0]"
      ]
     },
     "execution_count": 41,
     "metadata": {},
     "output_type": "execute_result"
    }
   ],
   "source": [
    "wcss"
   ]
  },
  {
   "cell_type": "code",
   "execution_count": 42,
   "id": "e0216f04-017e-4d64-8efd-3c5f59ba3bbb",
   "metadata": {},
   "outputs": [],
   "source": [
    "number_of_cluster = range(1,7)"
   ]
  },
  {
   "cell_type": "code",
   "execution_count": 46,
   "id": "ead1e037-0a5c-4083-938c-2a2463b6e33a",
   "metadata": {},
   "outputs": [
    {
     "data": {
      "text/plain": [
       "[<matplotlib.lines.Line2D at 0x154d2f24f50>]"
      ]
     },
     "execution_count": 46,
     "metadata": {},
     "output_type": "execute_result"
    },
    {
     "data": {
      "image/png": "[encoded data removed]",
      "text/plain": [
       "<Figure size 640x480 with 1 Axes>"
      ]
     },
     "metadata": {},
     "output_type": "display_data"
    }
   ],
   "source": [
    "# plotting the iteration(number of clusters we created  \n",
    "# and wcss distance each value generating elbow type fiture)\n",
    "plt.plot(number_of_cluster, wcss)"
   ]
  },
  {
   "cell_type": "code",
   "execution_count": 47,
   "id": "17fa939b-a9e7-4369-a959-87390c124d15",
   "metadata": {},
   "outputs": [],
   "source": [
    "# interpretting the graph we see that 3 is optimal where 2 is sub optimal so 3 4 5 6 has same wcss so any o fthem will works"
   ]
  },
  {
   "cell_type": "code",
   "execution_count": null,
   "id": "b7770e12-61d9-4dc1-a83f-5c5042140b0e",
   "metadata": {},
   "outputs": [],
   "source": [
    " "
   ]
  }
 ],
 "metadata": {
  "kernelspec": {
   "display_name": "Python 3 (ipykernel)",
   "language": "python",
   "name": "python3"
  },
  "language_info": {
   "codemirror_mode": {
    "name": "ipython",
    "version": 3
   },
   "file_extension": ".py",
   "mimetype": "text/x-python",
   "name": "python",
   "nbconvert_exporter": "python",
   "pygments_lexer": "ipython3",
   "version": "3.12.7"
  }
 },
 "nbformat": 4,
 "nbformat_minor": 5
}
