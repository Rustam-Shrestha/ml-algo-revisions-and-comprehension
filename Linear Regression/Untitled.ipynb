{
 "cells": [
  {
   "cell_type": "code",
   "execution_count": null,
   "id": "e2684295-00e7-4bd4-a832-89c1e5389a66",
   "metadata": {},
   "outputs": [],
   "source": []
  }
 ],
 "metadata": {
  "kernelspec": {
   "display_name": "",
   "name": ""
  },
  "language_info": {
   "name": ""
  }
 },
 "nbformat": 4,
 "nbformat_minor": 5
}
