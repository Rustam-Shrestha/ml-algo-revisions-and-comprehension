{
 "cells": [
  {
   "cell_type": "markdown",
   "id": "225b6e06-af77-4c89-a6a2-c3f41ffc69bf",
   "metadata": {},
   "source": [
    "# Keras\n",
    "\n",
    "- Keras is a high-level API for building and training neural networks. It simplifies the process of creating deep learning models by providing a user-friendly interface. Keras is built on top of lower-level libraries like TensorFlow, Theano, and Microsoft Cognitive Toolkit (CNTK). It allows you to define and train neural network models in just a few lines of code, making it accessible for both beginners and experts"
   ]
  },
  {
   "cell_type": "markdown",
   "id": "b34614cf-330d-46f2-9955-3c069286af21",
   "metadata": {},
   "source": [
    "# Low level frameworks\n",
    "    - TensorFlow: Developed by Google, TensorFlow is known for its scalability and production readiness. \n",
    "    it supports a wide range of machine learning and deep learning tasks, from training models to deploying them in production environments.\n",
    "    TensorFlow provides both high-level APIs (like Keras) for easy model building and low-level APIs for more detailed control over model architecture and training34.\n",
    "\n",
    "    - PyTorch: Developed by Facebook’s AI Research lab, PyTorch is favored for its dynamic computation graph, which makes it easier to debug and experiment with. PyTorch is widely used in research due to its flexibility and ease of use. It also supports production deployment, although TensorFlow has traditionally been more popular in this area"
   ]
  },
  {
   "cell_type": "markdown",
   "id": "499a7003-9ff0-40d6-b98f-bfe4da4a5b90",
   "metadata": {},
   "source": [
    "# CUDA\n",
    "TensorFlow: Developed by Google, TensorFlow is known for its scalability and production readiness. It supports a wide range of machine learning and deep learning tasks, from training models to deploying them in production environments. TensorFlow provides both high-level APIs (like Keras) for easy model building and low-level APIs for more detailed control over model architecture and training34.\n",
    "PyTorch: Developed by Facebook’s AI Research lab, PyTorch is favored for its dynamic computation graph, which makes it easier to debug and experiment with. PyTorch is widely used in research due to its flexibility and ease of use. It also supports production deployment, although TensorFlow has traditionally been more popular in this area"
   ]
  },
  {
   "cell_type": "markdown",
   "id": "74084be6-a9ad-4313-80bf-822885e87cc5",
   "metadata": {},
   "source": [
    "# installing keras and tensorflow\n",
    "\n",
    "pip install tensorflow\n",
    "\n"
   ]
  },
  {
   "attachments": {},
   "cell_type": "markdown",
   "id": "c8905c55-6ab2-4ebd-9050-59a0bcf8bd8b",
   "metadata": {},
   "source": []
  }
 ],
 "metadata": {
  "kernelspec": {
   "display_name": "Python 3 (ipykernel)",
   "language": "python",
   "name": "python3"
  },
  "language_info": {
   "codemirror_mode": {
    "name": "ipython",
    "version": 3
   },
   "file_extension": ".py",
   "mimetype": "text/x-python",
   "name": "python",
   "nbconvert_exporter": "python",
   "pygments_lexer": "ipython3",
   "version": "3.12.7"
  }
 },
 "nbformat": 4,
 "nbformat_minor": 5
}
